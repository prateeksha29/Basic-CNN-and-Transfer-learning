{
 "cells": [
  {
   "cell_type": "code",
   "execution_count": null,
   "metadata": {
    "collapsed": false
   },
   "outputs": [],
   "source": [
    "import os\n",
    "import keras\n",
    "import numpy as np\n",
    "import pandas as pd\n",
    "from matplotlib import pyplot\n",
    "from keras.preprocessing import image\n",
    "from scipy.misc import toimage\n",
    "from random import shuffle\n",
    "import cv2\n",
    "from keras.preprocessing.image import ImageDataGenerator #for data augmentation\n",
    "from sklearn.model_selection import train_test_split\n",
    "from keras.preprocessing.image import img_to_array\n",
    "from keras.optimizers import SGD\n",
    "from keras.models import Sequential\n",
    "from keras.layers import Dense, Dropout, Flatten, Activation\n",
    "from keras.layers import Conv2D, MaxPooling2D\n",
    "from keras import backend as k\n",
    "from keras.layers.normalization import BatchNormalization\n",
    "from keras.callbacks import ModelCheckpoint, Callback\n",
    "from keras.applications.vgg16 import VGG16\n",
    "from keras.applications.vgg16 import preprocess_input\n",
    "from keras.applications.vgg16 import decode_predictions"
   ]
  },
  {
   "cell_type": "code",
   "execution_count": null,
   "metadata": {
    "collapsed": false
   },
   "outputs": [],
   "source": [
    "train_path = '/home/prateeksha/Downloads/kaggle/catsvsdogs/train'\n",
    "train_labels = os.listdir(train_path)\n",
    "train_labels[1]\n",
    "len(train_labels)"
   ]
  },
  {
   "cell_type": "code",
   "execution_count": null,
   "metadata": {
    "collapsed": false
   },
   "outputs": [],
   "source": [
    "for i in range(0, 9):\n",
    "    label = train_labels[i]\n",
    "    cur_path = train_path + \"/\" + label\n",
    "    print cur_path\n",
    "    img = image.load_img(cur_path, target_size=(224,224))\n",
    "    pyplot.subplot(330 + 1 + i)\n",
    "    pyplot.imshow(toimage(img))\n",
    "# show the plot\n",
    "pyplot.show()"
   ]
  },
  {
   "cell_type": "code",
   "execution_count": null,
   "metadata": {
    "collapsed": false
   },
   "outputs": [],
   "source": [
    "y_train = []\n",
    "for i,img in enumerate(train_labels):\n",
    "    split = img.split(\".\")\n",
    "    split = split[0]\n",
    "    #print split\n",
    "    if split == 'cat': num = 1\n",
    "    #                             [no cat, very doggo]\n",
    "    elif split == 'dog': num=0\n",
    "    y_train.append(num)\n",
    "len(y_train)"
   ]
  },
  {
   "cell_type": "code",
   "execution_count": null,
   "metadata": {
    "collapsed": false
   },
   "outputs": [],
   "source": [
    "x_train = []\n",
    "for i,img in enumerate(train_labels):\n",
    "    path = os.path.join(train_path, img)\n",
    "    img = image.load_img(path, target_size = (224,224))\n",
    "    img = img_to_array(img)\n",
    "    img=np.array(img) \n",
    "    img=preprocess_input(img)\n",
    "    x_train.append(img)\n",
    "    if i%100 == 0: print('Processed {} of {}'.format(i, 1000))\n",
    "    \n",
    "print(x_train[0].shape)"
   ]
  },
  {
   "cell_type": "code",
   "execution_count": null,
   "metadata": {
    "collapsed": true
   },
   "outputs": [],
   "source": [
    "(trainX, testX, trainY, testY) = train_test_split(x_train, y_train, test_size = 0.25, random_state = 42)\n"
   ]
  },
  {
   "cell_type": "code",
   "execution_count": null,
   "metadata": {
    "collapsed": false
   },
   "outputs": [],
   "source": [
    "img_rows, img_cols = 224, 224\n",
    "if k.image_data_format() == 'channels_first':\n",
    "    trainX = trainX.reshape(trainX.shape[0], 3, img_rows, img_cols)\n",
    "    testX = testX.reshape(testX.shape[0], 3, img_rows, img_cols)\n",
    "    input_shape = (3, img_rows, img_cols)\n",
    "else:\n",
    "    trainX = trainX.reshape(trainX.shape[0], img_rows, img_cols, 3)\n",
    "    testX = testX.reshape(testX.shape[0], img_rows, img_cols, 3)\n",
    "    input_shape = (img_rows, img_cols, 3)"
   ]
  },
  {
   "cell_type": "code",
   "execution_count": null,
   "metadata": {
    "collapsed": false
   },
   "outputs": [],
   "source": [
    "x_train = np.array(x_train, dtype=\"float\")/255.0\n",
    "y_train = np.array(y_train)\n",
    "print x_train.shape\n",
    "\n",
    "\n",
    "#we need to hot-encode the labels  \n",
    "trainY = keras.utils.to_categorical(trainY, num_classes = 2)\n",
    "testY = keras.utils.to_categorical(testY, num_classes =2)\n"
   ]
  },
  {
   "cell_type": "markdown",
   "metadata": {},
   "source": [
    "# Using VGG-16 (freezing the initial layers and fine-tuning the last layers)"
   ]
  },
  {
   "cell_type": "code",
   "execution_count": null,
   "metadata": {
    "collapsed": false
   },
   "outputs": [],
   "source": [
    "from keras.models import Model\n",
    "\n",
    "def vgg16_model(img_rows, img_cols, channel=1, num_classes=None):\n",
    "\n",
    "    model = VGG16(weights='imagenet', include_top=True)\n",
    "\n",
    "    model.layers.pop()\n",
    "\n",
    "    model.outputs = [model.layers[-1].output]\n",
    "\n",
    "    model.layers[-1].outbound_nodes = []\n",
    "\n",
    "    x=Dense(num_classes, activation='softmax')(model.output)\n",
    "\n",
    "    model=Model(model.input,x)\n",
    "\n",
    "#To set the first 8 layers to non-trainable (weights will not be updated)\n",
    "\n",
    "    for layer in model.layers[:8]:\n",
    "        layer.trainable = False\n",
    "\n",
    "\n",
    "    sgd = SGD(lr=1e-3, decay=1e-6, momentum=0.9, nesterov=True)\n",
    "    model.compile(optimizer=sgd, loss='categorical_crossentropy', metrics=['accuracy'])\n",
    "\n",
    "    return model"
   ]
  },
  {
   "cell_type": "code",
   "execution_count": null,
   "metadata": {
    "collapsed": false
   },
   "outputs": [],
   "source": [
    "img_rows, img_cols = 224,224 # Resolution of inputs\n",
    "channel = 3\n",
    "num_classes = 2 \n",
    "batch_size = 16 \n",
    "nb_epoch = 10\n",
    "model = vgg16_model(img_rows, img_cols, channel, num_classes)"
   ]
  },
  {
   "cell_type": "code",
   "execution_count": null,
   "metadata": {
    "collapsed": false
   },
   "outputs": [],
   "source": [
    "class LossHistory(Callback):\n",
    "    def on_train_begin(self, logs={}):\n",
    "        self.losses = []\n",
    "        self.val_losses = []\n",
    "        \n",
    "    def on_epoch_end(self, batch, logs={}):\n",
    "        self.losses.append(logs.get('loss'))\n",
    "        self.val_losses.append(logs.get('val_loss'))\n",
    "\n",
    "#early_stopping = EarlyStopping(monitor='val_loss', patience=3, verbose=1, mode='auto')        \n",
    "        \n",
    "def run_catdog():\n",
    "    history = LossHistory()\n",
    "    model.fit(trainX, trainY, batch_size = batch_size, validation_data = (testX, testY), callbacks= [history], epochs = 10, verbose =1, shuffle =True)\n",
    "   \n",
    "   \n",
    "\n",
    "    #predictions = model.predict(test, verbose=0)\n",
    "    return  history\n",
    "history = run_catdog()"
   ]
  },
  {
   "cell_type": "code",
   "execution_count": null,
   "metadata": {
    "collapsed": true
   },
   "outputs": [],
   "source": [
    "loss = history.losses\n",
    "val_loss = history.val_losses\n",
    "\n",
    "pyplot.xlabel('Epochs')\n",
    "pyplot.ylabel('Loss')\n",
    "pyplot.title('Loss Trend')\n",
    "pyplot.plot(loss, 'blue', label='Training Loss')\n",
    "pyplot.plot(val_loss, 'green', label='Validation Loss')\n",
    "pyplot.xticks(range(0,10)[0::2])\n",
    "pyplot.legend()\n",
    "pyplot.show()"
   ]
  }
 ],
 "metadata": {
  "anaconda-cloud": {},
  "kernelspec": {
   "display_name": "Python [conda root]",
   "language": "python",
   "name": "conda-root-py"
  },
  "language_info": {
   "codemirror_mode": {
    "name": "ipython",
    "version": 2
   },
   "file_extension": ".py",
   "mimetype": "text/x-python",
   "name": "python",
   "nbconvert_exporter": "python",
   "pygments_lexer": "ipython2",
   "version": "2.7.13"
  }
 },
 "nbformat": 4,
 "nbformat_minor": 2
}
